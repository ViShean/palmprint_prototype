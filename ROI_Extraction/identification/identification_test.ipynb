{
 "cells": [
  {
   "cell_type": "code",
   "execution_count": 1,
   "metadata": {},
   "outputs": [
    {
     "name": "stdout",
     "output_type": "stream",
     "text": [
      "True\n"
     ]
    }
   ],
   "source": [
    "import torch\n",
    "print(torch.cuda.is_available())\n"
   ]
  },
  {
   "cell_type": "code",
   "execution_count": 3,
   "metadata": {},
   "outputs": [],
   "source": [
    "import numpy as np\n",
    "\n",
    "# Load existing feature matrix\n",
    "A = np.load(\"feature_matrix_A.npy\")\n"
   ]
  },
  {
   "cell_type": "code",
   "execution_count": 2,
   "metadata": {},
   "outputs": [],
   "source": [
    "import torch\n",
    "import torchvision.transforms as T\n"
   ]
  },
  {
   "cell_type": "code",
   "execution_count": 3,
   "metadata": {},
   "outputs": [
    {
     "name": "stderr",
     "output_type": "stream",
     "text": [
      "Using cache found in /home/nemo/.cache/torch/hub/facebookresearch_dinov2_main\n",
      "/home/nemo/.cache/torch/hub/facebookresearch_dinov2_main/dinov2/layers/swiglu_ffn.py:51: UserWarning: xFormers is not available (SwiGLU)\n",
      "  warnings.warn(\"xFormers is not available (SwiGLU)\")\n",
      "/home/nemo/.cache/torch/hub/facebookresearch_dinov2_main/dinov2/layers/attention.py:33: UserWarning: xFormers is not available (Attention)\n",
      "  warnings.warn(\"xFormers is not available (Attention)\")\n",
      "/home/nemo/.cache/torch/hub/facebookresearch_dinov2_main/dinov2/layers/block.py:40: UserWarning: xFormers is not available (Block)\n",
      "  warnings.warn(\"xFormers is not available (Block)\")\n"
     ]
    },
    {
     "ename": "",
     "evalue": "",
     "output_type": "error",
     "traceback": [
      "\u001b[1;31mCanceled future for execute_request message before replies were done"
     ]
    },
    {
     "ename": "",
     "evalue": "",
     "output_type": "error",
     "traceback": [
      "\u001b[1;31mThe Kernel crashed while executing code in the the current cell or a previous cell. Please review the code in the cell(s) to identify a possible cause of the failure. Click <a href='https://aka.ms/vscodeJupyterKernelCrash'>here</a> for more info. View Jupyter <a href='command:jupyter.viewOutput'>log</a> for further details."
     ]
    }
   ],
   "source": [
    "model = torch.hub.load(\"facebookresearch/dinov2\", \"dinov2_vitl14\", pretrained=True)\n",
    "model.eval()\n",
    "device = torch.device(\"cuda\" if torch.cuda.is_available() else \"cpu\")\n",
    "model.to(device)"
   ]
  },
  {
   "cell_type": "code",
   "execution_count": null,
   "metadata": {},
   "outputs": [],
   "source": [
    "transform = T.Compose([\n",
    "    T.Resize(256),\n",
    "    T.CenterCrop(224),\n",
    "    T.ToTensor(),\n",
    "    T.Normalize(mean=[0.485, 0.456, 0.406],\n",
    "                std=[0.229, 0.224, 0.225]),\n",
    "])\n",
    "\n",
    "def normalize_vector(vector):\n",
    "    \"\"\"\n",
    "    Normalize a vector to unit norm.\n",
    "    \"\"\"\n",
    "    norm = np.linalg.norm(vector)\n",
    "    return vector / norm if norm != 0 else vector\n",
    "\n",
    "def identify(y, A, class_dict, lambda_=0.001):\n",
    "    \"\"\"\n",
    "    Identify the class of a probe vector y given the gallery matrix A and a class dictionary.\n",
    "    \"\"\"\n",
    "    device = torch.device(\"cuda\" if torch.cuda.is_available() else \"cpu\")\n",
    "\n",
    "    A_torch = torch.tensor(A, dtype=torch.float32, device=device)\n",
    "    y_torch = torch.tensor(y, dtype=torch.float32, device=device)\n",
    "    \n",
    "    At = A_torch.T\n",
    "    AtA = At @ A_torch\n",
    "    Aty = At @ y_torch\n",
    "\n",
    "    n = A_torch.shape[1]\n",
    "    I = torch.eye(n, device=device, dtype=torch.float32)\n",
    "    regularized_matrix = AtA + lambda_ * I\n",
    "\n",
    "    try:\n",
    "        x0 = torch.linalg.solve(regularized_matrix, Aty)\n",
    "    except RuntimeError as e:\n",
    "        logging.error(f\"CUDA error during identification: {e}\")\n",
    "        return None\n",
    "\n",
    "    x0 = x0.cpu().numpy()\n",
    "\n",
    "    best_class = None\n",
    "    min_error = float('inf')\n",
    "    for cls, indices in class_dict.items():\n",
    "        A_class = A[:, indices]\n",
    "        x0_class = x0[indices]\n",
    "        reconstruction = A_class @ x0_class\n",
    "        error = np.linalg.norm(y - reconstruction, 2) ** 2\n",
    "        if error < min_error:\n",
    "            min_error = error\n",
    "            best_class = cls\n",
    "\n",
    "    return best_class\n",
    "\n",
    "def extract_features_combined(image_path, model, transform):\n",
    "    \"\"\"\n",
    "    Extract a feature vector for the image at image_path using DINOv2.\n",
    "    \"\"\"\n",
    "    try:\n",
    "        pil_img = Image.open(image_path).convert(\"L\")\n",
    "        # Replicate grayscale channel to 3-channel\n",
    "        pil_img = Image.merge(\"RGB\", (pil_img, pil_img, pil_img))\n",
    "    except Exception as e:\n",
    "        logging.error(f\"Error loading image (PIL): {image_path} : {e}\")\n",
    "        return None\n",
    "\n",
    "    img_tensor = transform(pil_img).unsqueeze(0).to(device)\n",
    "    with torch.no_grad():\n",
    "        dino_features = model(img_tensor).cpu().numpy().flatten()\n",
    "    dino_features = normalize_vector(dino_features)\n",
    "    return dino_features\n"
   ]
  }
 ],
 "metadata": {
  "interpreter": {
   "hash": "6ad4bebd78b17c8e71d39c8604a11fd6b70b1e0ab37ac4445967f2ccb9958344"
  },
  "kernelspec": {
   "display_name": "Python 3.6.9 ('venv': venv)",
   "language": "python",
   "name": "python3"
  },
  "language_info": {
   "codemirror_mode": {
    "name": "ipython",
    "version": 3
   },
   "file_extension": ".py",
   "mimetype": "text/x-python",
   "name": "python",
   "nbconvert_exporter": "python",
   "pygments_lexer": "ipython3",
   "version": "3.6.9"
  },
  "orig_nbformat": 4
 },
 "nbformat": 4,
 "nbformat_minor": 2
}
